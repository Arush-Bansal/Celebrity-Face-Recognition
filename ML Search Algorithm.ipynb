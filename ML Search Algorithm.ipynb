{
 "cells": [
  {
   "attachments": {},
   "cell_type": "markdown",
   "id": "f66e12d8",
   "metadata": {},
   "source": []
  },
  {
   "cell_type": "code",
   "execution_count": 1,
   "metadata": {},
   "outputs": [
    {
     "name": "stdout",
     "output_type": "stream",
     "text": [
      "Requirement already satisfied: pairwise in c:\\users\\arush bansal\\anaconda3\\lib\\site-packages (0.1)\n",
      "Note: you may need to restart the kernel to use updated packages.\n"
     ]
    }
   ],
   "source": [
    "%pip install pairwise\n"
   ]
  },
  {
   "cell_type": "code",
   "execution_count": 4,
   "metadata": {},
   "outputs": [],
   "source": [
    "import numpy as np\n",
    "import pairwise"
   ]
  },
  {
   "cell_type": "code",
   "execution_count": 7,
   "id": "129f95bc",
   "metadata": {},
   "outputs": [],
   "source": [
    "def ml_search_algorithm(dataframe,feature_column,test_vector,name_role=['name_role'],thresh=0.5):\n",
    "    \"\"\"\n",
    "    cosine similarity base search algorithm\n",
    "    \"\"\"\n",
    "    # step-1: take the dataframe (collection of data)\n",
    "    dataframe = dataframe.copy()\n",
    "    # step-2: Index face embeding from the dataframe and convert into array\n",
    "    X_list = dataframe[feature_column].tolist()\n",
    "    x = np.asarray(X_list)\n",
    "    \n",
    "    # step-3: Cal. cosine similarity\n",
    "    \n",
    "    similar = pairwise.cosine_similarity(x,test_vector.reshape(1,-1))\n",
    "    similar_arr = np.array(similar).flatten()\n",
    "    dataframe['cosine'] = similar_arr\n",
    "\n",
    "    # step-4: filter the data\n",
    "    data_filter = dataframe.query(f'cosine >= {thresh}')\n",
    "    if len(data_filter) > 0:\n",
    "        # step-5: get the person name\n",
    "        data_filter.reset_index(drop=True,inplace=True)\n",
    "        argmax = data_filter['cosine'].argmax()\n",
    "        #print(argmax)\n",
    "        person_name = data_filter.loc[argmax]['name_role']\n",
    "        \n",
    "    else:\n",
    "        person_name = ' '\n",
    "        \n",
    "    #print(person_name)\n",
    "    return person_name"
   ]
  },
  {
   "cell_type": "code",
   "execution_count": 6,
   "metadata": {},
   "outputs": [
    {
     "ename": "ImportError",
     "evalue": "cannot import name 'pairwise' from 'pairwise' (c:\\Users\\Arush Bansal\\anaconda3\\lib\\site-packages\\pairwise\\__init__.py)",
     "output_type": "error",
     "traceback": [
      "\u001b[1;31m---------------------------------------------------------------------------\u001b[0m",
      "\u001b[1;31mImportError\u001b[0m                               Traceback (most recent call last)",
      "\u001b[1;32mC:\\Users\\ARUSHB~1\\AppData\\Local\\Temp/ipykernel_23996/679992629.py\u001b[0m in \u001b[0;36m<module>\u001b[1;34m\u001b[0m\n\u001b[1;32m----> 1\u001b[1;33m \u001b[1;32mfrom\u001b[0m \u001b[0mpairwise\u001b[0m \u001b[1;32mimport\u001b[0m \u001b[0mpairwise\u001b[0m\u001b[1;33m\u001b[0m\u001b[1;33m\u001b[0m\u001b[0m\n\u001b[0m\u001b[0;32m      2\u001b[0m \u001b[1;33m\u001b[0m\u001b[0m\n\u001b[0;32m      3\u001b[0m \u001b[1;31m# Define the input sets for each parameter\u001b[0m\u001b[1;33m\u001b[0m\u001b[1;33m\u001b[0m\u001b[0m\n\u001b[0;32m      4\u001b[0m parameters = [\n\u001b[0;32m      5\u001b[0m     \u001b[1;33m[\u001b[0m\u001b[1;34m'Red'\u001b[0m\u001b[1;33m,\u001b[0m \u001b[1;34m'Blue'\u001b[0m\u001b[1;33m,\u001b[0m \u001b[1;34m'Green'\u001b[0m\u001b[1;33m]\u001b[0m\u001b[1;33m,\u001b[0m  \u001b[1;31m# Color options\u001b[0m\u001b[1;33m\u001b[0m\u001b[1;33m\u001b[0m\u001b[0m\n",
      "\u001b[1;31mImportError\u001b[0m: cannot import name 'pairwise' from 'pairwise' (c:\\Users\\Arush Bansal\\anaconda3\\lib\\site-packages\\pairwise\\__init__.py)"
     ]
    }
   ],
   "source": [
    "from pairwise import pairwise\n",
    "\n",
    "# Define the input sets for each parameter\n",
    "parameters = [\n",
    "    ['Red', 'Blue', 'Green'],  # Color options\n",
    "    ['Small', 'Medium', 'Large'],  # Size options\n",
    "    ['Cotton', 'Polyester']  # Material options\n",
    "]\n",
    "\n",
    "# Generate pairwise combinations\n",
    "combinations = list(pairwise(parameters))\n",
    "\n",
    "# Display the generated combinations\n",
    "for combo in combinations:\n",
    "    print(combo)\n"
   ]
  }
 ],
 "metadata": {
  "kernelspec": {
   "display_name": "Python 3 (ipykernel)",
   "language": "python",
   "name": "python3"
  },
  "language_info": {
   "codemirror_mode": {
    "name": "ipython",
    "version": 3
   },
   "file_extension": ".py",
   "mimetype": "text/x-python",
   "name": "python",
   "nbconvert_exporter": "python",
   "pygments_lexer": "ipython3",
   "version": "3.9.7"
  }
 },
 "nbformat": 4,
 "nbformat_minor": 5
}
